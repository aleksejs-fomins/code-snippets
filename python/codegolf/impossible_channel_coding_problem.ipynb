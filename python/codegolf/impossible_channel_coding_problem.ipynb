{
 "cells": [
  {
   "cell_type": "code",
   "execution_count": 1,
   "metadata": {},
   "outputs": [],
   "source": [
    "import numpy as np\n",
    "import matplotlib.pyplot as plt"
   ]
  },
  {
   "cell_type": "code",
   "execution_count": 86,
   "metadata": {
    "scrolled": true
   },
   "outputs": [
    {
     "name": "stdout",
     "output_type": "stream",
     "text": [
      "0\n",
      "1\n",
      "2\n",
      "3\n",
      "4\n",
      "5\n",
      "6\n",
      "7\n",
      "8\n",
      "0\n",
      "1\n",
      "2\n",
      "3\n",
      "0\n",
      "1\n",
      "2\n",
      "0\n",
      "1\n",
      "2\n",
      "0\n",
      "1\n",
      "0\n",
      "1\n",
      "0\n",
      "1\n",
      "0\n",
      "1\n",
      "0\n",
      "1\n",
      "0\n",
      "1\n",
      "0\n",
      "1\n",
      "0\n",
      "1\n",
      "0\n",
      "1\n",
      "0\n",
      "1\n",
      "0\n",
      "1\n",
      "0\n",
      "1\n",
      "0\n",
      "0\n",
      "0\n",
      "0\n",
      "0\n",
      "0\n",
      "0\n",
      "0\n",
      "0\n",
      "0\n",
      "0\n",
      "0\n",
      "0\n",
      "0\n",
      "0\n",
      "0\n",
      "Test Passed :)\n"
     ]
    }
   ],
   "source": [
    "n = 64\n",
    "M = np.zeros((n, n-1))\n",
    "M[0, :] = 1\n",
    "M[-1, :] = -1\n",
    "\n",
    "def proc():\n",
    "    for i in range(n):\n",
    "        for j in range(n-1):\n",
    "            if M[i][j] == 0:\n",
    "                iPrev = (i - j - 1 + n) % n\n",
    "                iNext = (i + j + 1 + n) % n\n",
    "\n",
    "                valPrev = M[iPrev, j]\n",
    "                valNext = M[iNext, j]\n",
    "\n",
    "                if valPrev==0 and valNext==0:\n",
    "                    pass # Do nothing\n",
    "                elif valPrev != 0:\n",
    "                    if valPrev == 1:\n",
    "                        M[i][j] = -1\n",
    "                    else:\n",
    "                        M[i][j] = 1\n",
    "                        M[iNext][j] = -1\n",
    "                elif valNext != 0:\n",
    "                    if valNext == -1:\n",
    "                        M[i][j] = 1\n",
    "                    else:\n",
    "                        M[i][j] = -1\n",
    "                        M[iPrev][j] = 1\n",
    "\n",
    "def proc2():\n",
    "    i=0\n",
    "    Mold = np.zeros((n, n-1))\n",
    "    while not np.sum(np.abs(Mold-M)) == 0:\n",
    "        print(i)\n",
    "        Mold = np.copy(M)\n",
    "        proc()\n",
    "        i += 1\n",
    "        \n",
    "def proc3():\n",
    "    proc2()\n",
    "    for i in range(n // 2 - 1):\n",
    "        M[i+1][M[i+1] == 0] = 1\n",
    "        M[-i-2][M[-i-2] == 0] = -1\n",
    "        proc2()\n",
    "        \n",
    "def test():\n",
    "    Mdig=np.zeros((n, n-1), dtype=int)\n",
    "    for i in range(n):\n",
    "        for j in range(n-1):\n",
    "            Mdig[i, j] = (i + (j + 1) * M[i, j] + n) % n + 1\n",
    "            \n",
    "        assert len(set(Mdig[i])) == n-1\n",
    "    print(\"Test Passed :)\")\n",
    "        \n",
    "proc3()\n",
    "test()"
   ]
  },
  {
   "cell_type": "code",
   "execution_count": 87,
   "metadata": {},
   "outputs": [
    {
     "data": {
      "image/png": "[encoded data removed]",
      "text/plain": [
       "<Figure size 576x576 with 1 Axes>"
      ]
     },
     "metadata": {
      "needs_background": "light"
     },
     "output_type": "display_data"
    }
   ],
   "source": [
    "plt.figure(figsize=(8,8))\n",
    "plt.imshow(M)\n",
    "plt.show()"
   ]
  },
  {
   "cell_type": "code",
   "execution_count": 229,
   "metadata": {},
   "outputs": [
    {
     "data": {
      "image/png": "[encoded data removed]",
      "text/plain": [
       "<Figure size 432x288 with 1 Axes>"
      ]
     },
     "metadata": {
      "needs_background": "light"
     },
     "output_type": "display_data"
    }
   ],
   "source": [
    "def gen():\n",
    "    Mgen = np.zeros((n, n-1))\n",
    "    for i in range(n):\n",
    "        for j in range(n-1):\n",
    "            #Mgen[i,j] = (i // (np.abs(n//2 - (j+1)))+1) % 2\n",
    "#             Mgen[i,j] = (i % (j + 1)) % 2\n",
    "            ui = n // 2 - i\n",
    "            uj = n // 2 - j\n",
    "            vi = 2 * np.abs(ui) + int(ui >= 0)\n",
    "            vj = 2 * np.abs(uj) + int(uj >= 0)\n",
    "            Mgen[i,j] = i ^ j\n",
    "    return Mgen\n",
    "            \n",
    "plt.figure()\n",
    "plt.imshow(gen())\n",
    "plt.show() "
   ]
  },
  {
   "cell_type": "code",
   "execution_count": null,
   "metadata": {},
   "outputs": [],
   "source": []
  }
 ],
 "metadata": {
  "kernelspec": {
   "display_name": "Python (nest)",
   "language": "python",
   "name": "py36nest"
  },
  "language_info": {
   "codemirror_mode": {
    "name": "ipython",
    "version": 3
   },
   "file_extension": ".py",
   "mimetype": "text/x-python",
   "name": "python",
   "nbconvert_exporter": "python",
   "pygments_lexer": "ipython3",
   "version": "3.6.6"
  }
 },
 "nbformat": 4,
 "nbformat_minor": 2
}
